{
 "cells": [
  {
   "cell_type": "code",
   "execution_count": null,
   "id": "07c05482-b422-4392-9786-0f516acb25ff",
   "metadata": {},
   "outputs": [],
   "source": [
    "1. Add the current date to the text file today.txt as a string."
   ]
  },
  {
   "cell_type": "code",
   "execution_count": 1,
   "id": "d2cbcc72-af52-4d1b-b4b0-20e3781c2e9a",
   "metadata": {},
   "outputs": [
    {
     "data": {
      "text/plain": [
       "'2023-11-18'"
      ]
     },
     "execution_count": 1,
     "metadata": {},
     "output_type": "execute_result"
    }
   ],
   "source": [
    "\n",
    "import datetime\n",
    "from datetime import date\n",
    "now = date.today()\n",
    "cur_date = now.isoformat()\n",
    "cur_date\n",
    "     "
   ]
  },
  {
   "cell_type": "code",
   "execution_count": null,
   "id": "78ca3eb9-0134-44b5-9bda-c2724a8db7bd",
   "metadata": {},
   "outputs": [],
   "source": [
    "\n",
    "with open('today.txt','w') as file:\n",
    "    file.write(cur_date)\n",
    "     "
   ]
  },
  {
   "cell_type": "code",
   "execution_count": null,
   "id": "260d126b-b103-49c5-bd26-5f0adf24e5ef",
   "metadata": {},
   "outputs": [],
   "source": [
    "2. Read the text file today.txt into the string today_string"
   ]
  },
  {
   "cell_type": "code",
   "execution_count": null,
   "id": "6b8befca-4bbb-4872-bcd4-8c0beb54b3a1",
   "metadata": {},
   "outputs": [],
   "source": [
    "\n",
    "with open('today.txt','r') as file:\n",
    "    today_string = file.read()\n",
    "today_string\n",
    "     "
   ]
  },
  {
   "cell_type": "code",
   "execution_count": null,
   "id": "7462dc73-42eb-48c4-b283-6ddc661a539b",
   "metadata": {},
   "outputs": [],
   "source": [
    "'2021-07-23'\n"
   ]
  },
  {
   "cell_type": "code",
   "execution_count": null,
   "id": "1e16ed04-0d3e-4654-852f-a43b2d4d8d88",
   "metadata": {},
   "outputs": [],
   "source": [
    "3. Parse the date from today_string."
   ]
  },
  {
   "cell_type": "code",
   "execution_count": null,
   "id": "18c86181-ed2c-40b7-82d1-83b86642deb6",
   "metadata": {},
   "outputs": [],
   "source": [
    "\n",
    "from datetime import datetime\n",
    "format = '%Y-%m-%d'\n",
    "datetime.strptime(today_string,format)\n",
    "     "
   ]
  },
  {
   "cell_type": "code",
   "execution_count": null,
   "id": "7110fed3-055b-4d03-b242-c59efe69a01b",
   "metadata": {},
   "outputs": [],
   "source": [
    "datetime.datetime(2021, 7, 23, 0, 0)\n"
   ]
  },
  {
   "cell_type": "code",
   "execution_count": null,
   "id": "cd094a33-f6ef-4bd4-beba-81f1821885e1",
   "metadata": {},
   "outputs": [],
   "source": [
    "4. List the files in your current directory"
   ]
  },
  {
   "cell_type": "code",
   "execution_count": null,
   "id": "a1054b2a-367f-45d2-95e4-6ecaec044621",
   "metadata": {},
   "outputs": [],
   "source": [
    "\n",
    "import os\n",
    "os.listdir('.')\n",
    "     "
   ]
  },
  {
   "cell_type": "code",
   "execution_count": null,
   "id": "9584cd17-4f8a-4a29-80d5-fecdce3b536b",
   "metadata": {},
   "outputs": [],
   "source": [
    "['.config',\n",
    " 'solo-leveling-igris-shadow-uhdpaper.com-8K-4.2344.jpg',\n",
    " 'today.txt',\n",
    " 'shiva.jpg',\n",
    " 'igris-solo-leveling-uhdpaper.com-4K-7.1071.jpg',\n",
    " 'abc.py',\n",
    " '60edcc1c438e5.png',\n",
    " 'sample_data']"
   ]
  },
  {
   "cell_type": "code",
   "execution_count": null,
   "id": "3a9d513f-489b-4686-b6e1-6c2b33422341",
   "metadata": {},
   "outputs": [],
   "source": [
    "5. Create a list of all of the files in your parent directory (minimum five files should be available)."
   ]
  },
  {
   "cell_type": "code",
   "execution_count": null,
   "id": "177fef9a-f19f-4d5b-a2fb-d357ba4c4ec6",
   "metadata": {},
   "outputs": [],
   "source": [
    "import os \n",
    "\n",
    "def parent_directory():\n",
    "  # Create a relative path to the parent of the current working directory \n",
    "  relative_parent = os.path.join(os.getcwd(), \"..\") # .. means parent directory\n",
    "\n",
    "  # Return the absolute path of the parent directory\n",
    "  return os.path.abspath(relative_parent)\n",
    "\n",
    "print(parent_directory())"
   ]
  },
  {
   "cell_type": "code",
   "execution_count": null,
   "id": "d1d9beb3-4824-4385-9688-dce00b304f4e",
   "metadata": {},
   "outputs": [],
   "source": [
    "import os\n",
    "print os.path.abspath(os.path.join(yourpath, os.pardir))"
   ]
  },
  {
   "cell_type": "code",
   "execution_count": null,
   "id": "1b3716ec-e934-465b-9db4-fc90a0eb8b4a",
   "metadata": {},
   "outputs": [],
   "source": [
    "from pathlib import Path\n",
    "Path('C:\\Program Files').parent\n",
    "# Returns a Pathlib object"
   ]
  },
  {
   "cell_type": "code",
   "execution_count": null,
   "id": "492ae034-4800-4615-84df-ee2364b79808",
   "metadata": {},
   "outputs": [],
   "source": [
    "6. Use multiprocessing to create three separate processes. Make each one wait a random number of\n",
    "seconds between one and five, print the current time, and then exit."
   ]
  },
  {
   "cell_type": "code",
   "execution_count": null,
   "id": "a7a9f652-a406-46a6-be48-2cb28d82ebed",
   "metadata": {},
   "outputs": [],
   "source": [
    "\n",
    "import multiprocessing\n",
    "\n",
    "def printsec(seconds):\n",
    "    from datetime import datetime\n",
    "    from time import sleep\n",
    "    sleep(seconds)\n",
    "    print('wait', seconds, 'seconds, time is', datetime.utcnow())\n",
    "    \n",
    "if __name__ == '__main__':\n",
    "    import random    \n",
    "    for n in range(3):\n",
    "        seconds = random.random()\n",
    "        proc = multiprocessing.Process(target=printsec, args=(seconds,))\n",
    "        proc.start()\n",
    "     "
   ]
  },
  {
   "cell_type": "code",
   "execution_count": null,
   "id": "298b33cb-9d59-41c9-a678-4fd1b179a178",
   "metadata": {},
   "outputs": [],
   "source": [
    "\n",
    "!python abc.py\n",
    "     "
   ]
  },
  {
   "cell_type": "code",
   "execution_count": null,
   "id": "affb6c7a-90d1-49ae-8d3e-ecd13926a2bc",
   "metadata": {},
   "outputs": [],
   "source": [
    "wait 0.3778828345877602 seconds, time is 2021-07-23 11:58:00.088968\n",
    "wait 0.40470650039299916 seconds, time is 2021-07-23 11:58:00.117663\n",
    "wait 0.8617609567347891 seconds, time is 2021-07-23 11:58:00.568776"
   ]
  },
  {
   "cell_type": "code",
   "execution_count": null,
   "id": "42787766-dccf-4d84-aca5-d6afdaa21d07",
   "metadata": {},
   "outputs": [],
   "source": [
    "7. Create a date object of your day of birth."
   ]
  },
  {
   "cell_type": "code",
   "execution_count": 3,
   "id": "28d7d3ae-efd7-4ab8-b363-b0850a8498c7",
   "metadata": {},
   "outputs": [
    {
     "data": {
      "text/plain": [
       "datetime.date(1998, 9, 9)"
      ]
     },
     "execution_count": 3,
     "metadata": {},
     "output_type": "execute_result"
    }
   ],
   "source": [
    "\n",
    "my_dob = date(1998,9,9)\n",
    "my_dob\n",
    "     "
   ]
  },
  {
   "cell_type": "code",
   "execution_count": null,
   "id": "b1b73b0b-e2dd-4886-ab76-a00f52c45e86",
   "metadata": {},
   "outputs": [],
   "source": [
    "8. What day of the week was your day of birth?"
   ]
  },
  {
   "cell_type": "code",
   "execution_count": 4,
   "id": "2f41af74-e0bd-4353-8efa-0d4e3d70da03",
   "metadata": {},
   "outputs": [
    {
     "data": {
      "text/plain": [
       "2"
      ]
     },
     "execution_count": 4,
     "metadata": {},
     "output_type": "execute_result"
    }
   ],
   "source": [
    "\n",
    "my_dob.weekday()\n",
    "     "
   ]
  },
  {
   "cell_type": "code",
   "execution_count": null,
   "id": "be1f12f5-1e3e-4fcb-9504-c3bcb79acbe7",
   "metadata": {},
   "outputs": [],
   "source": [
    "9. When will you be (or when were you) 10,000 days old?"
   ]
  },
  {
   "cell_type": "code",
   "execution_count": 5,
   "id": "4078af84-35d6-40ba-bf7c-08a6ba3d464a",
   "metadata": {},
   "outputs": [
    {
     "data": {
      "text/plain": [
       "datetime.date(2026, 1, 25)"
      ]
     },
     "execution_count": 5,
     "metadata": {},
     "output_type": "execute_result"
    }
   ],
   "source": [
    "\n",
    "from datetime import timedelta\n",
    "day10000 = my_dob + timedelta(days=10000)\n",
    "day10000\n",
    "     "
   ]
  }
 ],
 "metadata": {
  "kernelspec": {
   "display_name": "Python 3 (ipykernel)",
   "language": "python",
   "name": "python3"
  },
  "language_info": {
   "codemirror_mode": {
    "name": "ipython",
    "version": 3
   },
   "file_extension": ".py",
   "mimetype": "text/x-python",
   "name": "python",
   "nbconvert_exporter": "python",
   "pygments_lexer": "ipython3",
   "version": "3.10.6"
  }
 },
 "nbformat": 4,
 "nbformat_minor": 5
}
